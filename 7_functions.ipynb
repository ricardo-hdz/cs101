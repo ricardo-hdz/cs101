{
 "cells": [
  {
   "cell_type": "markdown",
   "metadata": {},
   "source": [
    "# Funciones (functions)"
   ]
  },
  {
   "cell_type": "markdown",
   "metadata": {},
   "source": [
    "### Estructura de una funcions"
   ]
  },
  {
   "cell_type": "markdown",
   "metadata": {},
   "source": [
    "Las funciones sirven para reutilizar (o encapsular) logica en los programas."
   ]
  },
  {
   "cell_type": "code",
   "execution_count": 6,
   "metadata": {},
   "outputs": [],
   "source": [
    "# def - define una funcion\n",
    "# testfunc - nombre de la funcion\n",
    "# (name) - argumentos, los argumentos son variable que se le pasan a la funcion\n",
    "# : - son necesarios e indican donde comienza la funcion\n",
    "# el bloque de la logica (o codigo) de la funcion\n",
    "def testfunc(name):\n",
    "    print('Hello ' + name)\n",
    "    print('Bienvenido al curso')"
   ]
  },
  {
   "cell_type": "code",
   "execution_count": 7,
   "metadata": {},
   "outputs": [
    {
     "name": "stdout",
     "output_type": "stream",
     "text": [
      "Hello 18787\n",
      "Bienvenido al curso\n"
     ]
    }
   ],
   "source": [
    "# llamar a la funcion\n",
    "testfunc('18787')"
   ]
  },
  {
   "cell_type": "code",
   "execution_count": 8,
   "metadata": {},
   "outputs": [
    {
     "name": "stdout",
     "output_type": "stream",
     "text": [
      "Hello  Victor\n",
      "Bienvenido al curso\n"
     ]
    }
   ],
   "source": [
    "testfunc(' Victor')"
   ]
  },
  {
   "cell_type": "code",
   "execution_count": 16,
   "metadata": {},
   "outputs": [],
   "source": [
    "# return - regresa un valor\n",
    "def suma(num1, num2):\n",
    "    return num1 + num2"
   ]
  },
  {
   "cell_type": "code",
   "execution_count": 17,
   "metadata": {},
   "outputs": [
    {
     "data": {
      "text/plain": [
       "2"
      ]
     },
     "execution_count": 17,
     "metadata": {},
     "output_type": "execute_result"
    }
   ],
   "source": [
    "suma(1, 1)"
   ]
  },
  {
   "cell_type": "code",
   "execution_count": 18,
   "metadata": {
    "collapsed": true
   },
   "outputs": [],
   "source": [
    "edad = suma(10, 7)"
   ]
  },
  {
   "cell_type": "code",
   "execution_count": 19,
   "metadata": {},
   "outputs": [
    {
     "name": "stdout",
     "output_type": "stream",
     "text": [
      "17\n"
     ]
    }
   ],
   "source": [
    "print(edad)"
   ]
  },
  {
   "cell_type": "code",
   "execution_count": 21,
   "metadata": {},
   "outputs": [
    {
     "ename": "NameError",
     "evalue": "name 'num1' is not defined",
     "output_type": "error",
     "traceback": [
      "\u001b[0;31m---------------------------------------------------------------------------\u001b[0m",
      "\u001b[0;31mNameError\u001b[0m                                 Traceback (most recent call last)",
      "\u001b[0;32m<ipython-input-21-0e3ef867b71d>\u001b[0m in \u001b[0;36m<module>\u001b[0;34m()\u001b[0m\n\u001b[1;32m      5\u001b[0m \u001b[0;31m# num1 - es una variable local a la funcion\u001b[0m\u001b[0;34m\u001b[0m\u001b[0;34m\u001b[0m\u001b[0m\n\u001b[1;32m      6\u001b[0m \u001b[0;34m\u001b[0m\u001b[0m\n\u001b[0;32m----> 7\u001b[0;31m \u001b[0mprint\u001b[0m\u001b[0;34m(\u001b[0m\u001b[0mnum1\u001b[0m\u001b[0;34m)\u001b[0m\u001b[0;34m\u001b[0m\u001b[0m\n\u001b[0m",
      "\u001b[0;31mNameError\u001b[0m: name 'num1' is not defined"
     ]
    }
   ],
   "source": [
    "# scope of variables - alcance de las variables\n",
    "# dos tipos: locales y globales\n",
    "\n",
    "# edad - es una variable global\n",
    "# num1 - es una variable local a la funcion\n",
    "\n",
    "print(num1)"
   ]
  },
  {
   "cell_type": "code",
   "execution_count": 26,
   "metadata": {
    "collapsed": true
   },
   "outputs": [],
   "source": [
    "# como utilizar variables globales dentro de una funcion\n",
    "# las variables globales se pueden acceder en funciones\n",
    "\n",
    "saludo = 'Hola '\n",
    "def bienvenida(nombre):\n",
    "    print(saludo + nombre)"
   ]
  },
  {
   "cell_type": "code",
   "execution_count": 27,
   "metadata": {},
   "outputs": [
    {
     "name": "stdout",
     "output_type": "stream",
     "text": [
      "Hola  Ana\n"
     ]
    }
   ],
   "source": [
    "bienvenida(' Ana')"
   ]
  },
  {
   "cell_type": "code",
   "execution_count": 47,
   "metadata": {
    "collapsed": true
   },
   "outputs": [],
   "source": [
    "def verificar_edad(fecha):\n",
    "    if fecha > 18:\n",
    "        print('adulto')\n",
    "    else:\n",
    "        print('nino')"
   ]
  },
  {
   "cell_type": "code",
   "execution_count": 48,
   "metadata": {},
   "outputs": [
    {
     "name": "stdout",
     "output_type": "stream",
     "text": [
      "nino\n"
     ]
    }
   ],
   "source": [
    "verificar_edad(14)"
   ]
  },
  {
   "cell_type": "code",
   "execution_count": 36,
   "metadata": {},
   "outputs": [],
   "source": [
    "# una funcion puede tener cualquier logica o codigo\n",
    "def spaceship_building(cans):\n",
    "    total_cans = 0\n",
    "    for week in range(1, 53):\n",
    "        total_cans = total_cans + cans\n",
    "        print('Week %s cans ' % week + ': ' + str(total_cans))"
   ]
  },
  {
   "cell_type": "code",
   "execution_count": 35,
   "metadata": {},
   "outputs": [
    {
     "name": "stdout",
     "output_type": "stream",
     "text": [
      "Week 1 cans : 2\n",
      "Week 2 cans : 4\n",
      "Week 3 cans : 6\n",
      "Week 4 cans : 8\n",
      "Week 5 cans : 10\n",
      "Week 6 cans : 12\n",
      "Week 7 cans : 14\n",
      "Week 8 cans : 16\n",
      "Week 9 cans : 18\n",
      "Week 10 cans : 20\n",
      "Week 11 cans : 22\n",
      "Week 12 cans : 24\n",
      "Week 13 cans : 26\n",
      "Week 14 cans : 28\n",
      "Week 15 cans : 30\n",
      "Week 16 cans : 32\n",
      "Week 17 cans : 34\n",
      "Week 18 cans : 36\n",
      "Week 19 cans : 38\n",
      "Week 20 cans : 40\n",
      "Week 21 cans : 42\n",
      "Week 22 cans : 44\n",
      "Week 23 cans : 46\n",
      "Week 24 cans : 48\n",
      "Week 25 cans : 50\n",
      "Week 26 cans : 52\n",
      "Week 27 cans : 54\n",
      "Week 28 cans : 56\n",
      "Week 29 cans : 58\n",
      "Week 30 cans : 60\n",
      "Week 31 cans : 62\n",
      "Week 32 cans : 64\n",
      "Week 33 cans : 66\n",
      "Week 34 cans : 68\n",
      "Week 35 cans : 70\n",
      "Week 36 cans : 72\n",
      "Week 37 cans : 74\n",
      "Week 38 cans : 76\n",
      "Week 39 cans : 78\n",
      "Week 40 cans : 80\n",
      "Week 41 cans : 82\n",
      "Week 42 cans : 84\n",
      "Week 43 cans : 86\n",
      "Week 44 cans : 88\n",
      "Week 45 cans : 90\n",
      "Week 46 cans : 92\n",
      "Week 47 cans : 94\n",
      "Week 48 cans : 96\n",
      "Week 49 cans : 98\n",
      "Week 50 cans : 100\n",
      "Week 51 cans : 102\n",
      "Week 52 cans : 104\n"
     ]
    }
   ],
   "source": [
    "spaceship_building(2)"
   ]
  },
  {
   "cell_type": "markdown",
   "metadata": {},
   "source": [
    "### Modules de Python"
   ]
  },
  {
   "cell_type": "code",
   "execution_count": 37,
   "metadata": {},
   "outputs": [
    {
     "name": "stdout",
     "output_type": "stream",
     "text": [
      "Sat Sep  8 14:37:33 2018\n"
     ]
    }
   ],
   "source": [
    "# para reutilizar funciones definidas en el lenguaje, se utilizan (importan) modules\n",
    "# un module es un conjunto de funciones\n",
    "\n",
    "import time # importando el modulo time\n",
    "print(time.asctime())"
   ]
  },
  {
   "cell_type": "code",
   "execution_count": 41,
   "metadata": {},
   "outputs": [
    {
     "name": "stdout",
     "output_type": "stream",
     "text": [
      "\n"
     ]
    },
    {
     "data": {
      "text/plain": [
       "5"
      ]
     },
     "execution_count": 41,
     "metadata": {},
     "output_type": "execute_result"
    }
   ],
   "source": [
    "import sys # importando el modulo sys\n",
    "# module.submodulo.funcion()\n",
    "\n",
    "print(sys.stdin.readline())\n",
    "5"
   ]
  },
  {
   "cell_type": "markdown",
   "metadata": {},
   "source": [
    "### Funciones Anidadas"
   ]
  },
  {
   "cell_type": "code",
   "execution_count": 52,
   "metadata": {},
   "outputs": [
    {
     "name": "stdout",
     "output_type": "stream",
     "text": [
      "5\n"
     ]
    }
   ],
   "source": [
    "def imprimirNumeroAleaorio():\n",
    "    print(5)\n",
    "imprimirNumeroAleaorio()"
   ]
  },
  {
   "cell_type": "code",
   "execution_count": 65,
   "metadata": {
    "collapsed": true
   },
   "outputs": [],
   "source": [
    "def imprimirNombreCompleto():\n",
    "    def imprimirNombre():\n",
    "        print('Carlos ')\n",
    "        return 'Carlos '\n",
    "    def imprimirApellido():\n",
    "        print('Apellido')\n",
    "        return 'Apellido'\n",
    "    print(imprimirNombre() + imprimirApellido())"
   ]
  },
  {
   "cell_type": "code",
   "execution_count": 66,
   "metadata": {},
   "outputs": [
    {
     "name": "stdout",
     "output_type": "stream",
     "text": [
      "Carlos \n",
      "Apellido\n",
      "Carlos Apellido\n"
     ]
    }
   ],
   "source": [
    "imprimirNombreCompleto()"
   ]
  },
  {
   "cell_type": "code",
   "execution_count": 67,
   "metadata": {},
   "outputs": [
    {
     "name": "stdout",
     "output_type": "stream",
     "text": [
      "Apellido\n"
     ]
    },
    {
     "data": {
      "text/plain": [
       "'Apellido'"
      ]
     },
     "execution_count": 67,
     "metadata": {},
     "output_type": "execute_result"
    }
   ],
   "source": [
    "imprimirApellido()"
   ]
  },
  {
   "cell_type": "code",
   "execution_count": 68,
   "metadata": {},
   "outputs": [
    {
     "ename": "NameError",
     "evalue": "name 'imprimirNombre' is not defined",
     "output_type": "error",
     "traceback": [
      "\u001b[0;31m---------------------------------------------------------------------------\u001b[0m",
      "\u001b[0;31mNameError\u001b[0m                                 Traceback (most recent call last)",
      "\u001b[0;32m<ipython-input-68-553cb1dbf9f6>\u001b[0m in \u001b[0;36m<module>\u001b[0;34m()\u001b[0m\n\u001b[0;32m----> 1\u001b[0;31m \u001b[0mimprimirNombre\u001b[0m\u001b[0;34m(\u001b[0m\u001b[0;34m)\u001b[0m\u001b[0;34m\u001b[0m\u001b[0m\n\u001b[0m",
      "\u001b[0;31mNameError\u001b[0m: name 'imprimirNombre' is not defined"
     ]
    }
   ],
   "source": [
    "imprimirNombre()"
   ]
  },
  {
   "cell_type": "markdown",
   "metadata": {
    "collapsed": true
   },
   "source": [
    "## Ejercicios\n",
    "\n",
    "*Ejercicio I*\n",
    "\n",
    "Utilizando el `for loop` creado la semana pasada para imprimir la lista de contactos, refcatorizarla para que pueda ser impresa cuando se llame una funcion. Llamar a la funcion `imprimirDirectorio()`.\n",
    "\n",
    "Crear funciones separadas (anidadas) para imprimir informacion que contenga multiples valores, como correo. Por ejemplo, `impimirCorreos()`\n",
    "\n",
    "*Ejercio II*\n",
    "\n",
    "Utilizar el `for` loop creada la semana pasada para imprimir los nombres de contactos con edad > 18. La funcion debe recibir un argumento `edad` la cual debe ser utilizada en el `for` loop para filtrar los contactos. Llamar a esta funcion `buscarContactoPorEdad(edad)`.\n",
    "\n",
    "Utilizar el `for` loop creada la semana pasada para imprimir los nombres de contactos que vivan en determinada ciudad. La funcion debe recibir un argumento `ciudad` la cual debe ser utilizada en el `for` loop para filtrar los contactos. Llamar a esta funcion `buscarContactoPorCiudad(ciudad)`.\n"
   ]
  }
 ],
 "metadata": {
  "hide_input": false,
  "kernelspec": {
   "display_name": "Python 3",
   "language": "python",
   "name": "python3"
  },
  "language_info": {
   "codemirror_mode": {
    "name": "ipython",
    "version": 3
   },
   "file_extension": ".py",
   "mimetype": "text/x-python",
   "name": "python",
   "nbconvert_exporter": "python",
   "pygments_lexer": "ipython3",
   "version": "3.6.3"
  }
 },
 "nbformat": 4,
 "nbformat_minor": 2
}
