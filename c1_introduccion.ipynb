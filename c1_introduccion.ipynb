{
 "cells": [
  {
   "cell_type": "markdown",
   "metadata": {},
   "source": [
    "# Introducción a Python\n",
    "\n",
    "Al igual que los humanos, las computadoras utilizan lenguajes para comunicarse entre ellas mismas \n",
    "(incluyendo los dispositivos y programas). Hay múltiples lenguajes de programación.\n",
    "\n",
    "Como vimos en la primera parte del curso, Scratch es un programa que utiliza un lenguaje de programación.\n",
    "\n",
    "[Intro a Python]\n",
    "\n",
    "## Instalar Python\n",
    "\n",
    "Para instalar Python hay que descargar la última versión de Python en https://www.python.org/getit/\n",
    "\n",
    "Para descargarla hay que seleccionar el sistema operativo correspondiente de tu computadora \n",
    "([Windows](https://www.python.org/downloads/windows/), [Mac OS X](https://www.python.org/downloads/mac-osx/), \n",
    " [Linux/UNIX](https://www.python.org/downloads/source/)).\n",
    "\n",
    "Después de haber completado la instalación, verifica que Python esté disponible en la terminal de comandos. Utiliza\n",
    "el siguiente comando para ello:\n",
    "    \n",
    "```\n",
    "python3\n",
    "```\n",
    "\n",
    "La terminal debe imprimir lo siguiente:\n",
    "\n",
    "```\n",
    "Python 3.6.1 |Anaconda custom (x86_64)| (default, May 11 2017, 13:04:09)\n",
    "[GCC 4.2.1 Compatible Apple LLVM 6.0 (clang-600.0.57)] on darwin\n",
    "Type \"help\", \"copyright\", \"credits\" or \"license\" for more information.\n",
    ">>>\n",
    "```\n",
    "\n",
    "## Primer programa en Python\n",
    "En la terminal, despuès del simbolo `>>>`, escribe el siguiente comando:\n",
    "```\n",
    "print('Hola Mundo')\n",
    "```\n",
    "\n",
    "## Segundo programa en Python\n",
    "Abrir un bloc de notas o notepad y escribir el mismo comando para imprimir Hola Mundo:\n",
    "```\n",
    "print('Hola Mundo')\n",
    "```\n",
    "Guardar el archivo como `hola.py`\n",
    "\n",
    "Despues de guardar el archivo podemos ejecutar el programa en la terminal con el siguiente comando:\n",
    "```\n",
    "py hola.py\n",
    "```"
   ]
  }
 ],
 "metadata": {
  "kernelspec": {
   "display_name": "Python 3",
   "language": "python",
   "name": "python3"
  },
  "language_info": {
   "codemirror_mode": {
    "name": "ipython",
    "version": 3
   },
   "file_extension": ".py",
   "mimetype": "text/x-python",
   "name": "python",
   "nbconvert_exporter": "python",
   "pygments_lexer": "ipython3",
   "version": "3.6.1"
  }
 },
 "nbformat": 4,
 "nbformat_minor": 2
}
