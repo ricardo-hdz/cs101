{
 "cells": [
  {
   "cell_type": "markdown",
   "metadata": {},
   "source": [
    "# Introducción a Python\n",
    "\n",
    "Al igual que los humanos, las computadoras utilizan lenguajes para comunicarse entre ellas mismas \n",
    "(incluyendo los dispositivos y programas). Hay múltiples lenguajes de programación.\n",
    "\n",
    "Como vimos en la primera parte del curso, Scratch es un programa que utiliza un lenguaje de programación para crear programas o juegos utilizando bloques. Estos bloques son interpretados por la computadora a través de un lenguaje de programación.\n",
    "\n",
    "Existen múltiples lenguajes de programación, cada uno diferente en su forma de hablar y en su uso y aplicación.\n",
    "\n",
    "Nosotros veremos como programar en Python. Para ellos tenemo primero que instalar el lenguaje de programación en la computadora para que esta pueda interpretar las instrucciones de nuestros programas.\n",
    "\n",
    "Sigue las siguientes instrucciones para instalar Python.\n",
    "\n",
    "## Instalar Python\n",
    "\n",
    "Para instalar Python hay que descargar la última versión de Python en [https://www.python.org/getit/](https://www.python.org/getit/)\n",
    "\n",
    "Para descargarla hay que seleccionar el sistema operativo correspondiente de tu computadora \n",
    "([Windows](https://www.python.org/downloads/windows/), [Mac OS X](https://www.python.org/downloads/mac-osx/), \n",
    " [Linux/UNIX](https://www.python.org/downloads/source/)).\n",
    "\n",
    "Después de haber completado la instalación, verifica que Python esté disponible en la [terminal de comandos](http://www.vozidea.com/abrir-consola-comandos-terminal-windows). \n",
    "\n",
    "En la terminal de comandos utiliza el siguiente comando para verificar que Python este instalado:\n",
    "    \n",
    "```\n",
    "python3\n",
    "```\n",
    "\n",
    "La terminal debe imprimir lo siguiente:\n",
    "\n",
    "```\n",
    "Python 3.6.1 |Anaconda custom (x86_64)| (default, May 11 2017, 13:04:09)\n",
    "[GCC 4.2.1 Compatible Apple LLVM 6.0 (clang-600.0.57)] on darwin\n",
    "Type \"help\", \"copyright\", \"credits\" or \"license\" for more information.\n",
    ">>>\n",
    "```\n",
    "\n",
    "## Primer programa en Python\n",
    "En la terminal, despuès del simbolo `>>>`, escribe el siguiente comando:\n",
    "```\n",
    "print('Hola Mundo')\n",
    "```\n",
    "\n",
    "Para salir de Python, hay que presionar las teclas Control (Ctr) y Z al mismo tiempo.\n",
    "\n",
    "## Segundo programa en Python\n",
    "Abrir un bloc de notas o notepad y escribir el mismo comando para imprimir Hola Mundo:\n",
    "```\n",
    "print('Hola Mundo')\n",
    "```\n",
    "Guardar el archivo como `hola.py`\n",
    "\n",
    "Despues de guardar el archivo podemos ejecutar el programa en la terminal con el siguiente comando:\n",
    "```\n",
    "py hola.py\n",
    "```"
   ]
  },
  {
   "cell_type": "code",
   "execution_count": null,
   "metadata": {
    "collapsed": true
   },
   "outputs": [],
   "source": []
  }
 ],
 "metadata": {
  "hide_input": false,
  "kernelspec": {
   "display_name": "Python 3",
   "language": "python",
   "name": "python3"
  },
  "language_info": {
   "codemirror_mode": {
    "name": "ipython",
    "version": 3
   },
   "file_extension": ".py",
   "mimetype": "text/x-python",
   "name": "python",
   "nbconvert_exporter": "python",
   "pygments_lexer": "ipython3",
   "version": "3.6.3"
  }
 },
 "nbformat": 4,
 "nbformat_minor": 2
}
