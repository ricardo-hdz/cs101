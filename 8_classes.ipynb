{
 "cells": [
  {
   "cell_type": "markdown",
   "metadata": {},
   "source": [
    "# Clases"
   ]
  },
  {
   "cell_type": "markdown",
   "metadata": {},
   "source": [
    "### Introduccion: que es una clase\n",
    "\n",
    "Programacion orientada a objectos\n",
    "\n",
    "Objetos: es una composicion de variables, propiedades y funciones/metodos."
   ]
  },
  {
   "cell_type": "code",
   "execution_count": 1,
   "metadata": {},
   "outputs": [
    {
     "ename": "SyntaxError",
     "evalue": "invalid syntax (<ipython-input-1-8795d7521156>, line 3)",
     "output_type": "error",
     "traceback": [
      "\u001b[0;36m  File \u001b[0;32m\"<ipython-input-1-8795d7521156>\"\u001b[0;36m, line \u001b[0;32m3\u001b[0m\n\u001b[0;31m    'contactar': def contactar():\u001b[0m\n\u001b[0m               ^\u001b[0m\n\u001b[0;31mSyntaxError\u001b[0m\u001b[0;31m:\u001b[0m invalid syntax\n"
     ]
    }
   ],
   "source": [
    "contacto1= {\n",
    "    'nombre' : #propiedad\n",
    "    'contactar': def contactar():\n",
    "        print('Contactando contacto')\n",
    "}\n",
    "contacto['edad'] = 18 #variable"
   ]
  },
  {
   "cell_type": "code",
   "execution_count": 2,
   "metadata": {
    "collapsed": true
   },
   "outputs": [],
   "source": [
    "# Objetos son una representacion abstracta de la realidad\n",
    "\n",
    "# Animal\n",
    "# |-Domestico\n",
    "#     |--- Perro\n",
    "#     |--- Gato\n",
    "# |-Salvaje\n",
    "#     |--- Leon\n",
    "#     |--- Tiburon"
   ]
  },
  {
   "cell_type": "markdown",
   "metadata": {},
   "source": [
    "Ver ejemplos https://es.wikipedia.org/wiki/Clase_(inform%C3%A1tica)"
   ]
  },
  {
   "cell_type": "markdown",
   "metadata": {},
   "source": [
    "### Como definir una clase en Python"
   ]
  },
  {
   "cell_type": "code",
   "execution_count": 5,
   "metadata": {
    "collapsed": true
   },
   "outputs": [],
   "source": [
    "# la palabra reserva class\n",
    "class Animal():\n",
    "    pass"
   ]
  },
  {
   "cell_type": "code",
   "execution_count": 8,
   "metadata": {
    "collapsed": true
   },
   "outputs": [],
   "source": [
    "# la palabra self es una palabra reservada\n",
    "# indica una referencia a la misma clase que esta memoria\n",
    "\n",
    "class Animal():\n",
    "    def respirar(self):\n",
    "        print('Respirar')\n",
    "        pass\n",
    "    def mover(self):\n",
    "        print('Mover')\n",
    "        pass\n",
    "    def comer(self):\n",
    "        print('Comer')\n",
    "        pass    "
   ]
  },
  {
   "cell_type": "code",
   "execution_count": 12,
   "metadata": {
    "collapsed": true
   },
   "outputs": [],
   "source": [
    "# Como crear una instancia del objeto o clase\n",
    "\n",
    "miranda = Animal()"
   ]
  },
  {
   "cell_type": "code",
   "execution_count": 15,
   "metadata": {},
   "outputs": [
    {
     "name": "stdout",
     "output_type": "stream",
     "text": [
      "Mover\n"
     ]
    }
   ],
   "source": [
    "miranda.mover()"
   ]
  },
  {
   "cell_type": "markdown",
   "metadata": {},
   "source": [
    "## Herencia\n",
    "\n",
    "Heredar las variables, propiedades y funciones de una clase principal o padre."
   ]
  },
  {
   "cell_type": "code",
   "execution_count": 23,
   "metadata": {
    "collapsed": true
   },
   "outputs": [],
   "source": [
    "# para crear una clases hija (que herede de la clase padre) debemos pasar \n",
    "# el nombre de la clase padre en los argumentos\n",
    "class Perro(Animal):\n",
    "    def mover_cola(self):\n",
    "        print('Perro moviendo cola')\n",
    "        pass"
   ]
  },
  {
   "cell_type": "code",
   "execution_count": 20,
   "metadata": {
    "collapsed": true
   },
   "outputs": [],
   "source": [
    "class Tiburon(Animal):\n",
    "    pass"
   ]
  },
  {
   "cell_type": "code",
   "execution_count": 18,
   "metadata": {},
   "outputs": [
    {
     "name": "stdout",
     "output_type": "stream",
     "text": [
      "Perro moviendo cola\n"
     ]
    }
   ],
   "source": [
    "miranda = Perro()\n",
    "miranda.mover_cola()"
   ]
  },
  {
   "cell_type": "code",
   "execution_count": 26,
   "metadata": {},
   "outputs": [
    {
     "name": "stdout",
     "output_type": "stream",
     "text": [
      "Perro moviendo cola\n",
      "Comer\n"
     ]
    }
   ],
   "source": [
    "# Herencia\n",
    "rufo = Perro()\n",
    "rufo.mover_cola()\n",
    "rufo.comer()"
   ]
  },
  {
   "cell_type": "code",
   "execution_count": 24,
   "metadata": {},
   "outputs": [
    {
     "ename": "AttributeError",
     "evalue": "'Animal' object has no attribute 'mover_cola'",
     "output_type": "error",
     "traceback": [
      "\u001b[0;31m---------------------------------------------------------------------------\u001b[0m",
      "\u001b[0;31mAttributeError\u001b[0m                            Traceback (most recent call last)",
      "\u001b[0;32m<ipython-input-24-43cc3ec3bc0d>\u001b[0m in \u001b[0;36m<module>\u001b[0;34m()\u001b[0m\n\u001b[1;32m      1\u001b[0m \u001b[0;31m#Inherited functions\u001b[0m\u001b[0;34m\u001b[0m\u001b[0;34m\u001b[0m\u001b[0m\n\u001b[1;32m      2\u001b[0m \u001b[0mrufo\u001b[0m \u001b[0;34m=\u001b[0m \u001b[0mAnimal\u001b[0m\u001b[0;34m(\u001b[0m\u001b[0;34m)\u001b[0m\u001b[0;34m\u001b[0m\u001b[0m\n\u001b[0;32m----> 3\u001b[0;31m \u001b[0mrufo\u001b[0m\u001b[0;34m.\u001b[0m\u001b[0mmover_cola\u001b[0m\u001b[0;34m(\u001b[0m\u001b[0;34m)\u001b[0m\u001b[0;34m\u001b[0m\u001b[0m\n\u001b[0m",
      "\u001b[0;31mAttributeError\u001b[0m: 'Animal' object has no attribute 'mover_cola'"
     ]
    }
   ],
   "source": [
    "# La herencia solo es de padre a hijo, nunca de hijo a padre\n",
    "rufo = Animal()\n",
    "rufo.mover_cola()"
   ]
  },
  {
   "cell_type": "markdown",
   "metadata": {},
   "source": [
    "### Como inicializar una clase"
   ]
  },
  {
   "cell_type": "code",
   "execution_count": 42,
   "metadata": {
    "collapsed": true
   },
   "outputs": [],
   "source": [
    "# Inicializar una clase es util para definir valores por default en los objetos\n",
    "\n",
    "# la referencia a self solo es necesaria cuando se define la funcion y no cuando se crea un nuevo objeto\n",
    "class Perro(Animal):\n",
    "    def __init__(self, edad): # el primer argumento de init siempre debe ser self, el resto son variables del objeto\n",
    "        self.edad = edad"
   ]
  },
  {
   "cell_type": "code",
   "execution_count": 29,
   "metadata": {
    "collapsed": true
   },
   "outputs": [],
   "source": [
    "miranda = Perro(4)"
   ]
  },
  {
   "cell_type": "code",
   "execution_count": 30,
   "metadata": {},
   "outputs": [
    {
     "data": {
      "text/plain": [
       "4"
      ]
     },
     "execution_count": 30,
     "metadata": {},
     "output_type": "execute_result"
    }
   ],
   "source": [
    "miranda.edad"
   ]
  },
  {
   "cell_type": "code",
   "execution_count": 31,
   "metadata": {
    "collapsed": true
   },
   "outputs": [],
   "source": [
    "class Perro(Animal):\n",
    "    def __init__(self, edad, raza):\n",
    "        self.raza = raza\n",
    "        self.edad = edad"
   ]
  },
  {
   "cell_type": "code",
   "execution_count": 32,
   "metadata": {
    "collapsed": true
   },
   "outputs": [],
   "source": [
    "rufus = Perro(5, 'Pastor Aleman')\n"
   ]
  },
  {
   "cell_type": "code",
   "execution_count": 34,
   "metadata": {},
   "outputs": [
    {
     "name": "stdout",
     "output_type": "stream",
     "text": [
      "Pastor Aleman\n",
      "5\n"
     ]
    }
   ],
   "source": [
    "print(rufus.raza)\n",
    "print(rufus.edad)"
   ]
  },
  {
   "cell_type": "code",
   "execution_count": 40,
   "metadata": {
    "collapsed": true
   },
   "outputs": [],
   "source": [
    "class Perro(Animal):\n",
    "    def __init__(self, edad, raza):\n",
    "        self.raza = raza\n",
    "        self.edad = edad\n",
    "    def ladrar(self):\n",
    "        print('Ladrar')"
   ]
  },
  {
   "cell_type": "code",
   "execution_count": 41,
   "metadata": {},
   "outputs": [
    {
     "name": "stdout",
     "output_type": "stream",
     "text": [
      "Ladrar\n"
     ]
    }
   ],
   "source": [
    "rufus = Perro(3, 'Pastor Aleman')\n",
    "rufus.ladrar()"
   ]
  },
  {
   "cell_type": "markdown",
   "metadata": {},
   "source": [
    "## Ejercicios\n",
    "\n",
    "1. Crear una clase llamada `contacto` que sea inicializada con los siguientes valores:\n",
    "    - nombre\n",
    "    - direccion\n",
    "    - telefono\n",
    "    - correo\n",
    "    - año de nacimiento\n",
    "   \n",
    "    \n",
    "2. Crear una funcion dentro de la clase llamada `es_mayor_de_edad()` que verifique si el contacto es mayor de 18 anios. Si es mayor, imprimir \"mayor de edad\", si no imprimir \"menor de edad\"\n",
    "\n",
    "\n",
    "3. Crear una clase llamada `contacto_negocio` que herede de a clase `contacto` y que tenga una propiedad que se llame `telefono_negocio`. Ademas crear una funcion llamada `imprimir_telefono` que imprima el valor de `telefono_negocio`."
   ]
  },
  {
   "cell_type": "code",
   "execution_count": 49,
   "metadata": {
    "collapsed": true
   },
   "outputs": [],
   "source": [
    "# Estilo de sintaxes"
   ]
  },
  {
   "cell_type": "code",
   "execution_count": 47,
   "metadata": {
    "collapsed": true
   },
   "outputs": [],
   "source": [
    "def contactonegocio():\n",
    "    pass"
   ]
  },
  {
   "cell_type": "code",
   "execution_count": 48,
   "metadata": {
    "collapsed": true
   },
   "outputs": [],
   "source": [
    "def contacto_negocio():\n",
    "    pass"
   ]
  },
  {
   "cell_type": "code",
   "execution_count": null,
   "metadata": {
    "collapsed": true
   },
   "outputs": [],
   "source": []
  }
 ],
 "metadata": {
  "kernelspec": {
   "display_name": "Python 3",
   "language": "python",
   "name": "python3"
  },
  "language_info": {
   "codemirror_mode": {
    "name": "ipython",
    "version": 3
   },
   "file_extension": ".py",
   "mimetype": "text/x-python",
   "name": "python",
   "nbconvert_exporter": "python",
   "pygments_lexer": "ipython3",
   "version": "3.6.1"
  }
 },
 "nbformat": 4,
 "nbformat_minor": 2
}
