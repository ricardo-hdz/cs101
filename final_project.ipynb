{
 "cells": [
  {
   "cell_type": "markdown",
   "metadata": {},
   "source": [
    "# Proyecto Final\n",
    "# Sistema de renta de películas en línea"
   ]
  },
  {
   "cell_type": "markdown",
   "metadata": {},
   "source": [
    "## Descripción del proyecto\n",
    "En este proyecto se pondran en práctica los conocimientos de las clases del curso CS101.\n",
    "\n",
    "Se creará un sistema de renta de películas en línea (e.g. Netflix) que permita almacenar datos de las películas disponibles en el sistema y su popularidad YouTube y Twitter. El sistema además deberá administrar las cuentas de los usuarios (subscriptores) así como las rentas que cada usuario realize.\n",
    "\n",
    "Este proyecto se divide en dos etapas y cada etapa se realizará en una semana:\n",
    "\n",
    "1. Crear clases de objectos (película, usuario y renta)\n",
    "2. Crear funciones y métodos de las clases para:\n",
    "    - asignar una renta a un usuario (relacionar una película con un usuario)\n",
    "    - conocer cuales son las peliculas mas populares en YouTube y Twitter (max y min)\n",
    "    - dar al usuario los enlaces de la película al trailer en Youtube (concat, www.youtube.com/{id})\n",
    "    - conocer si la cuenta de un usuario esta activa (funcion con booleans)\n",
    "    - contar cuantas rentas tiene un usuario (funcion con sum())"
   ]
  },
  {
   "cell_type": "markdown",
   "metadata": {},
   "source": [
    "## Datos de películas y Usuarios\n",
    "\n",
    "### Películas\n",
    "En el archivo adjunto `./peliculas.csv` se incluye un listado de las películas que estarán disponibles en el sistema. Este archivo puede verse en Excel y un ejemplo de algunas película se lista abajo.\n",
    "\n",
    "Cada película tiene los siguientes datos o atributos:\n",
    "\n",
    "- movie: nombre de la pelicula (string)\n",
    "- youtube: es el identificador de la direccion web del video en youtube (string)\n",
    "- title: titulo de trailer la pelicula en YouTube (string)\n",
    "- channel: es el identificador del canal en youtube (string)\n",
    "- category: categoria del video en youtube (string)\n",
    "- views: numero de vistas en youtube (int)\n",
    "- likes: numero de likes del video (int)\n",
    "- dislikes: numero dislikes del video (int)\n",
    "- comments: numero de comentarios del video (int)\n",
    "\n",
    "Cada película tiene a su vez los siguientes datos o atributos en Twitter:\n",
    "- twitter:\n",
    "    - followers: numero de seguidores en twitter (int)\n",
    "    - count: numero de tweets relacionados a la pelicula (int)\n",
    "    \n",
    "### Usuarios\n",
    "Cada usuario del sistema tiene los siguientes datos o atributos:\n",
    "- id: identificador del usuario (empieza por cero y este debe de incrementarse cada vez que se registre un nuevo usuario) (int)\n",
    "- nombre (string)\n",
    "- edad (int)\n",
    "- estado: indica si la cuenta esta activa o desactivada (boolean)\n",
    "- avatar: nombre del avatar de la cuenta, por ejemplo: superheroe, gato (string)\n",
    "- password (string)\n",
    "- plan: nombre del plan de la membresia (individual, familiar) (string)\n",
    "- fecha_membresia: fecha de cuando el usuario activó su membresía (time)\n",
    "\n",
    "### Renta\n",
    "Una renta se compone de una película asignada a un usuario. Una renta tiene los siguientes datos o atributos:\n",
    "\n",
    "- fecha: fecha de cuando la película se renta (time)\n",
    "- fecha_expiracion: fecha cuando la renta se vence (7 dias despues de la fecha de renta) (time)\n",
    "- id_usuario: id del usuario que renta la pelicula (int)\n",
    "- pelicula: nombre de la pelicula que renta el usuario (string)"
   ]
  },
  {
   "cell_type": "markdown",
   "metadata": {},
   "source": [
    "## Primera Etapa\n",
    "\n",
    "- Crear las clases correspondientes para las tres partes del sistema: película, usuario, renta.\n",
    "- Crear tres objetos o instancias de cada clase y asignar rentas al usuario.\n",
    "\n",
    "```\n",
    "def pelicula(atributos):\n",
    "def usuario(atributos):\n",
    "def renta(atributos):\n",
    "```"
   ]
  }
 ],
 "metadata": {
  "hide_input": false,
  "kernelspec": {
   "display_name": "Python 3",
   "language": "python",
   "name": "python3"
  },
  "language_info": {
   "codemirror_mode": {
    "name": "ipython",
    "version": 3
   },
   "file_extension": ".py",
   "mimetype": "text/x-python",
   "name": "python",
   "nbconvert_exporter": "python",
   "pygments_lexer": "ipython3",
   "version": "3.6.1"
  }
 },
 "nbformat": 4,
 "nbformat_minor": 2
}
