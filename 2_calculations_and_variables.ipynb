{
 "cells": [
  {
   "cell_type": "markdown",
   "metadata": {},
   "source": [
    "# 2. Variables y cálculos\n",
    "### Variables numericas y strings; calculos"
   ]
  },
  {
   "cell_type": "code",
   "execution_count": 29,
   "metadata": {},
   "outputs": [
    {
     "data": {
      "text/plain": [
       "5"
      ]
     },
     "execution_count": 29,
     "metadata": {},
     "output_type": "execute_result"
    }
   ],
   "source": [
    "1 * 5"
   ]
  },
  {
   "cell_type": "code",
   "execution_count": 28,
   "metadata": {},
   "outputs": [
    {
     "data": {
      "text/plain": [
       "120"
      ]
     },
     "execution_count": 28,
     "metadata": {},
     "output_type": "execute_result"
    }
   ],
   "source": [
    "20 + 100"
   ]
  },
  {
   "cell_type": "markdown",
   "metadata": {},
   "source": [
    "**Operadores de Python**  \n",
    "\n",
    "`+` Adición (Suma)  \n",
    "`-` Substracción (Resta)  \n",
    "`*` Multiplicacion  \n",
    "`/` Division  "
   ]
  },
  {
   "cell_type": "code",
   "execution_count": 1,
   "metadata": {},
   "outputs": [
    {
     "data": {
      "text/plain": [
       "16.0"
      ]
     },
     "execution_count": 1,
     "metadata": {},
     "output_type": "execute_result"
    }
   ],
   "source": [
    "# Orden de operaciones\n",
    "# las operaciones se ejecutan de izquierda a derecha, de acuerdo a la siguiente precedencia de operaciones:\n",
    "# 1. () parentesis\n",
    "# 2. * o / multiplicación o división\n",
    "# 3. + - suma o resta\n",
    "\n",
    "10 + 30 * 2\n",
    "\n",
    "(10 + 30) * 2\n",
    "\n",
    "((10 + 30) * 2)/10\n",
    "# Ejemplo\n",
    "# 10 + 30 = 40\n",
    "# 40 * 2 = 80\n",
    "# 80/10 = 8\n",
    "\n",
    "\n",
    "10 + 30 * 2 / 10\n",
    "# 30 * 2 = 60\n",
    "# 60 / 10 = 6\n",
    "# 10 + 6 = 16"
   ]
  },
  {
   "cell_type": "code",
   "execution_count": 2,
   "metadata": {},
   "outputs": [
    {
     "name": "stdout",
     "output_type": "stream",
     "text": [
      "12\n",
      "14\n"
     ]
    }
   ],
   "source": [
    "# variables para almacebar valores\n",
    "david = 12\n",
    "chico = 14\n",
    "print(david)\n",
    "print(chico)"
   ]
  },
  {
   "cell_type": "code",
   "execution_count": 3,
   "metadata": {},
   "outputs": [
    {
     "name": "stdout",
     "output_type": "stream",
     "text": [
      "13\n",
      "15\n"
     ]
    }
   ],
   "source": [
    "# modificar valor de variables\n",
    "david = david + 1\n",
    "chico = chico + 1\n",
    "print(david)\n",
    "print(chico)"
   ]
  },
  {
   "cell_type": "code",
   "execution_count": 16,
   "metadata": {},
   "outputs": [
    {
     "name": "stdout",
     "output_type": "stream",
     "text": [
      "28\n",
      "32\n"
     ]
    }
   ],
   "source": [
    "david = david * 2\n",
    "chico = chico * 2\n",
    "print(david)\n",
    "print(chico)"
   ]
  },
  {
   "cell_type": "code",
   "execution_count": 4,
   "metadata": {},
   "outputs": [
    {
     "name": "stdout",
     "output_type": "stream",
     "text": [
      "15\n",
      "15\n"
     ]
    }
   ],
   "source": [
    "# asignación de variables\n",
    "\n",
    "david = chico\n",
    "print(david)\n",
    "print(chico)"
   ]
  },
  {
   "cell_type": "code",
   "execution_count": 18,
   "metadata": {},
   "outputs": [
    {
     "name": "stdout",
     "output_type": "stream",
     "text": [
      "32\n",
      "35\n"
     ]
    }
   ],
   "source": [
    "chico = chico + 3\n",
    "print(david)\n",
    "print(chico)"
   ]
  },
  {
   "cell_type": "code",
   "execution_count": 19,
   "metadata": {
    "collapsed": true
   },
   "outputs": [],
   "source": [
    "monedas = 100"
   ]
  },
  {
   "cell_type": "code",
   "execution_count": 7,
   "metadata": {},
   "outputs": [
    {
     "name": "stdout",
     "output_type": "stream",
     "text": [
      "37\n"
     ]
    }
   ],
   "source": [
    "# Juego de las Monedas y Variables\n",
    "# 2 jugadores\n",
    "monedas_encontradas = 20\n",
    "monedas_magicas = 10\n",
    "monedas_robadas = 3\n",
    "total_monedas = monedas_encontradas + (monedas_magicas * 2) - monedas_robadas\n",
    "# 20 + 10 * 2 - 3\n",
    "# 20 + 20 - 3\n",
    "# 37\n",
    "print(total_monedas)"
   ]
  },
  {
   "cell_type": "code",
   "execution_count": 5,
   "metadata": {},
   "outputs": [
    {
     "name": "stdout",
     "output_type": "stream",
     "text": [
      "Hola Mundo\n"
     ]
    }
   ],
   "source": [
    "# variables de strings (cadenas de texto)\n",
    "saludo = \"Hola Mundo\"\n",
    "print(saludo)"
   ]
  },
  {
   "cell_type": "code",
   "execution_count": 6,
   "metadata": {},
   "outputs": [
    {
     "name": "stdout",
     "output_type": "stream",
     "text": [
      "Hola Mundo, mi nombre es Python\n"
     ]
    }
   ],
   "source": [
    "# concatenación de cadenas de texto (unir cadenas de texto)\n",
    "saludo = saludo + \", mi nombre es Python\"\n",
    "print(saludo)"
   ]
  },
  {
   "cell_type": "markdown",
   "metadata": {
    "collapsed": true
   },
   "source": [
    "## Ejercicios\n",
    "#### Juego de las monedas mágicas\n",
    "Tomando en cuenta el juego de las monedas y variables que se muestra en el código anterior, vamos a programar un juego para calcular las monedas totales que un jugador obtiene en el juego. Para ello hay que tomar en cuenta las siguientes reglas del juego:\n",
    "\n",
    "- Las monedas mágicas tienen un valor doble, es decir, se multiplican por dos (2).\n",
    "- Las monedas encantadas tienen un valor de uno (1) y despúes de encontradas disminuyen el valor _total_ de las monedas al doble, es decir, se divide el total de monedas entre dos (2).\n",
    "- Las monedas encontradas valen uno (1).\n",
    "- Las monedas robadas valen menos uno (-1).\n",
    "- Al inicio del juego el jugador recibe 100 monedas\n",
    "\n",
    "El ejercicio consiste en crear variable y asignar valores a cada una de ellas para calcular el total de monedas al final del juego. El jugador realizó los siguiente movimientos durante el juego:\n",
    "\n",
    "1. Encontró 50 monedas mágicas\n",
    "2. Encontró 10 monedas encantadas\n",
    "3. Encontró 100 monedas mágicas\n",
    "4. Encontró 60 monedas robadas\n",
    "5. Encontró 5 monedas mágicas\n",
    "6. Encontró 5 monedas encantadas\n",
    "7. Encontró 100 monedas mágicas\n",
    "8. Encontró 55 monedas\n",
    "9. Encontró 55 monedas robadas\n",
    "\n",
    "Calcular el total de monedas al fibal del juego. Utilizar variables para asignar el valor de cada tipo de moneda y hacer uso de paréntesis para cálcular correctamente el total."
   ]
  },
  {
   "cell_type": "markdown",
   "metadata": {},
   "source": [
    "#### Directorio de Contactos\n",
    "\n",
    "Crear una lista de contactos o directorio telefónico con 5 personas. Para esto debes de:\n",
    "\n",
    "Crear variables para almacenar nombre y apellidos de la persona.  \n",
    "Crear variable para almacenar la edad de cada persona.  \n",
    "Crear variables pata almacenar email y numero de teléfono.  \n",
    "Contruir una cadena de texto que concatene el nombre, apellido, email y teléfono. Guardar esta cadena de texto en una variable que se llame `contacto`  \n",
    "Imprimir el directorio (todos los contactos) en la consola de Python.  \n",
    "Al final, sumar las edades de todos los contactos e imprímela en la consola.  "
   ]
  }
 ],
 "metadata": {
  "hide_input": false,
  "kernelspec": {
   "display_name": "Python 3",
   "language": "python",
   "name": "python3"
  },
  "language_info": {
   "codemirror_mode": {
    "name": "ipython",
    "version": 3
   },
   "file_extension": ".py",
   "mimetype": "text/x-python",
   "name": "python",
   "nbconvert_exporter": "python",
   "pygments_lexer": "ipython3",
   "version": "3.6.3"
  }
 },
 "nbformat": 4,
 "nbformat_minor": 2
}
