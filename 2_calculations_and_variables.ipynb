{
 "cells": [
  {
   "cell_type": "markdown",
   "metadata": {},
   "source": [
    "# Variables\n",
    "### Variables numericas y strings; calculos"
   ]
  },
  {
   "cell_type": "code",
   "execution_count": 29,
   "metadata": {},
   "outputs": [
    {
     "data": {
      "text/plain": [
       "5"
      ]
     },
     "execution_count": 29,
     "metadata": {},
     "output_type": "execute_result"
    }
   ],
   "source": [
    "1 * 5"
   ]
  },
  {
   "cell_type": "code",
   "execution_count": 28,
   "metadata": {},
   "outputs": [
    {
     "data": {
      "text/plain": [
       "120"
      ]
     },
     "execution_count": 28,
     "metadata": {},
     "output_type": "execute_result"
    }
   ],
   "source": [
    "20 + 100"
   ]
  },
  {
   "cell_type": "markdown",
   "metadata": {},
   "source": [
    "Operadores de Python  \n",
    "`+` Mas  \n",
    "`-` Menos  \n",
    "`*` Multiplicacion  \n",
    "`/` Division  "
   ]
  },
  {
   "cell_type": "code",
   "execution_count": 11,
   "metadata": {},
   "outputs": [
    {
     "data": {
      "text/plain": [
       "16.0"
      ]
     },
     "execution_count": 11,
     "metadata": {},
     "output_type": "execute_result"
    }
   ],
   "source": [
    "# Orden de operaciones\n",
    "# precedencia de operaciones: () parentesis, * o / multiplicacion o division, ultimo + - mas o menos, suma o resta\n",
    "10 + 30 * 2\n",
    "\n",
    "(10 + 30) * 2\n",
    "\n",
    "((10 + 30) * 2)/10\n",
    "# Ejemplo\n",
    "# 10 + 30 = 40\n",
    "# 40 * 2 = 80\n",
    "# 80/10 = 8\n",
    "\n",
    "\n",
    "10 + 30 * 2 / 10\n",
    "# 30 * 2 = 60\n",
    "# 60 / 10 = 6\n",
    "# 10 + 6 = 16"
   ]
  },
  {
   "cell_type": "code",
   "execution_count": 13,
   "metadata": {},
   "outputs": [
    {
     "name": "stdout",
     "output_type": "stream",
     "text": [
      "12\n",
      "14\n"
     ]
    }
   ],
   "source": [
    "# variables como strings\n",
    "david = 12\n",
    "chico = 14\n",
    "print(david)\n",
    "print(chico)"
   ]
  },
  {
   "cell_type": "code",
   "execution_count": 15,
   "metadata": {},
   "outputs": [
    {
     "name": "stdout",
     "output_type": "stream",
     "text": [
      "14\n",
      "16\n"
     ]
    }
   ],
   "source": [
    "david = david + 1\n",
    "chico = chico + 1\n",
    "print(david)\n",
    "print(chico)"
   ]
  },
  {
   "cell_type": "code",
   "execution_count": 16,
   "metadata": {},
   "outputs": [
    {
     "name": "stdout",
     "output_type": "stream",
     "text": [
      "28\n",
      "32\n"
     ]
    }
   ],
   "source": [
    "david = david * 2\n",
    "chico = chico * 2\n",
    "print(david)\n",
    "print(chico)"
   ]
  },
  {
   "cell_type": "code",
   "execution_count": 17,
   "metadata": {},
   "outputs": [
    {
     "name": "stdout",
     "output_type": "stream",
     "text": [
      "32\n",
      "32\n"
     ]
    }
   ],
   "source": [
    "david = chico\n",
    "print(david)\n",
    "print(chico)"
   ]
  },
  {
   "cell_type": "code",
   "execution_count": 18,
   "metadata": {},
   "outputs": [
    {
     "name": "stdout",
     "output_type": "stream",
     "text": [
      "32\n",
      "35\n"
     ]
    }
   ],
   "source": [
    "chico = chico + 3\n",
    "print(david)\n",
    "print(chico)"
   ]
  },
  {
   "cell_type": "code",
   "execution_count": 19,
   "metadata": {
    "collapsed": true
   },
   "outputs": [],
   "source": [
    "monedas = 100"
   ]
  },
  {
   "cell_type": "code",
   "execution_count": 23,
   "metadata": {},
   "outputs": [
    {
     "name": "stdout",
     "output_type": "stream",
     "text": [
      "37\n"
     ]
    }
   ],
   "source": [
    "# 2 jugadores, David y Chico\n",
    "monedas_encontradas = 20\n",
    "monedas_magicas = 10\n",
    "monedas_robadas = 3\n",
    "total_monedas = monedas_encontradas + (monedas_magicas * 2) - monedas_robadas\n",
    "# 20 + 10 * 2 - 3\n",
    "# 20 + 20 - 3\n",
    "# 37\n",
    "print(total_monedas)"
   ]
  },
  {
   "cell_type": "markdown",
   "metadata": {
    "collapsed": true
   },
   "source": [
    "## Ejercicios\n",
    "1. Si tienes 3 cajas que contienen 25 chocolates cada una, y 10 bolsas que contienen\n",
    "32 caramelos cada una, ¿cu´antos dulces y chocolates tienes en total? (Nota:\n",
    "puedes calcularlo con una f´ormula en la consola de Python)"
   ]
  },
  {
   "cell_type": "markdown",
   "metadata": {},
   "source": [
    "2. Crear una lista de contactos o directorio telefonico con 5 personas. Para esto debes de:\n",
    "    - Crear variables para almacenar nombre y apellidos.\n",
    "    - Crear variables pata almacenar email y numero de telefono.\n",
    "    - Contruir una cadena de texto que concatene (una) el nombre, apellido, email y telefono\n",
    "    - Imprimir el directorio en la consola de Python\n",
    "    - Al final, sumar las edades de todos los contacto"
   ]
  },
  {
   "cell_type": "code",
   "execution_count": 25,
   "metadata": {},
   "outputs": [
    {
     "name": "stdout",
     "output_type": "stream",
     "text": [
      "Ricardo Hernandez correo@gmail.com 1234 20\n"
     ]
    }
   ],
   "source": [
    "nombre = \"Ricardo\"\n",
    "apellido = \"Hernandez\"\n",
    "email = \"correo@gmail.com\"\n",
    "telefono = 1234\n",
    "edad = 20\n",
    "print(nombre, apellido, email, telefono, edad)"
   ]
  },
  {
   "cell_type": "code",
   "execution_count": 26,
   "metadata": {},
   "outputs": [
    {
     "data": {
      "text/plain": [
       "100"
      ]
     },
     "execution_count": 26,
     "metadata": {},
     "output_type": "execute_result"
    }
   ],
   "source": [
    "edad + edad + edad + edad + edad"
   ]
  }
 ],
 "metadata": {
  "hide_input": false,
  "kernelspec": {
   "display_name": "Python 3",
   "language": "python",
   "name": "python3"
  },
  "language_info": {
   "codemirror_mode": {
    "name": "ipython",
    "version": 3
   },
   "file_extension": ".py",
   "mimetype": "text/x-python",
   "name": "python",
   "nbconvert_exporter": "python",
   "pygments_lexer": "ipython3",
   "version": "3.6.3"
  }
 },
 "nbformat": 4,
 "nbformat_minor": 2
}
