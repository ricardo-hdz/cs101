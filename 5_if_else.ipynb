{
 "cells": [
  {
   "cell_type": "markdown",
   "metadata": {},
   "source": [
    "## Estructuras de Control\n",
    "### IF, ELSE"
   ]
  },
  {
   "cell_type": "code",
   "execution_count": 2,
   "metadata": {
    "collapsed": true
   },
   "outputs": [],
   "source": [
    "age = 13\n",
    "\n",
    "# palabra clave y  condicion\n",
    "# if es palabra reservada del lenguaje de programacion\n",
    "\n",
    "# if FALSE:\n",
    "\n",
    "if age > 20: \n",
    "    print('old')"
   ]
  },
  {
   "cell_type": "code",
   "execution_count": 7,
   "metadata": {},
   "outputs": [
    {
     "name": "stdout",
     "output_type": "stream",
     "text": [
      "very\n",
      "old\n"
     ]
    }
   ],
   "source": [
    "# blocks o bloques\n",
    "# indentacion de un tab\n",
    "# tabs define un bloque de codigo\n",
    "if age > 10:\n",
    "    print('very')\n",
    "    print('old')"
   ]
  },
  {
   "cell_type": "markdown",
   "metadata": {},
   "source": [
    "#### Tipos de condiciones"
   ]
  },
  {
   "cell_type": "code",
   "execution_count": 17,
   "metadata": {},
   "outputs": [
    {
     "name": "stdout",
     "output_type": "stream",
     "text": [
      "5\n"
     ]
    }
   ],
   "source": [
    "# Tipos de condiciones\n",
    "\n",
    "# == Igual (equal)\n",
    "# cartas = 5\n",
    "# if cartas == 5:\n",
    "#     print(cartas)\n",
    "    \n",
    "\n",
    "# != Diferente (diferente)\n",
    "# cartas = 5\n",
    "# if cartas != 0:\n",
    "#     print(cartas)\n",
    "\n",
    "# > Mayor\n",
    "# cartas = 5\n",
    "# if cartas > 5:\n",
    "#     print(cartas)\n",
    "    \n",
    "# < Menor\n",
    "# cartas = 5\n",
    "# if cartas < 5:\n",
    "#     print(cartas)\n",
    "\n",
    "# >= Mayor o igual\n",
    "# cartas = 5\n",
    "# if cartas >= 5:\n",
    "#     print(cartas)\n",
    "    \n",
    "# short\n",
    "# if cartas > 5 && cartas == 5:\n",
    "#     print(cartas)\n",
    "\n",
    "# <= Menor o igual\n",
    "cartas = 5\n",
    "if cartas <= 5:\n",
    "    print(cartas)"
   ]
  },
  {
   "cell_type": "markdown",
   "metadata": {},
   "source": [
    "#### Else"
   ]
  },
  {
   "cell_type": "code",
   "execution_count": 20,
   "metadata": {},
   "outputs": [
    {
     "name": "stdout",
     "output_type": "stream",
     "text": [
      "You are not twelve\n"
     ]
    }
   ],
   "source": [
    "# else es una estructura de control que solamente se utilzia con IF\n",
    "age = 14\n",
    "if age == 12:\n",
    "    print('You are twelve')\n",
    "else:\n",
    "    print('You are not twelve')"
   ]
  },
  {
   "cell_type": "code",
   "execution_count": 24,
   "metadata": {},
   "outputs": [
    {
     "name": "stdout",
     "output_type": "stream",
     "text": [
      "Edad no reconocida\n",
      "Edad no reconocida\n"
     ]
    }
   ],
   "source": [
    "# Anidar condiciones\n",
    "# elif (else y if)\n",
    "\n",
    "age = 14\n",
    "if age == 12:\n",
    "    print('You are twelve')\n",
    "elif age == 11:\n",
    "    print('You are eleven')\n",
    "elif age == 10:\n",
    "    print('You are ten')\n",
    "elif age != 12 or age != 11 or age != 10:\n",
    "    print('Edad no reconocida')\n",
    "    \n",
    "if age == 12:\n",
    "    print('You are twelve')\n",
    "elif age == 11:\n",
    "    print('You are eleven')\n",
    "elif age == 10:\n",
    "    print('You are ten')\n",
    "else:\n",
    "    print('Edad no reconocida')"
   ]
  },
  {
   "cell_type": "markdown",
   "metadata": {},
   "source": [
    "#### OR y AND"
   ]
  },
  {
   "cell_type": "code",
   "execution_count": 27,
   "metadata": {},
   "outputs": [
    {
     "name": "stdout",
     "output_type": "stream",
     "text": [
      "More than ten\n"
     ]
    }
   ],
   "source": [
    "# or y and sirven para evaluar dos condiciones\n",
    "# las condiciones se evaluan de manera sequencial, de izquierda a derecha\n",
    "age = 10\n",
    "if age == 10 or age == 11:\n",
    "    print('More than ten')\n",
    "else:\n",
    "    print('Dont know')"
   ]
  },
  {
   "cell_type": "code",
   "execution_count": 30,
   "metadata": {},
   "outputs": [
    {
     "name": "stdout",
     "output_type": "stream",
     "text": [
      "You are young\n"
     ]
    }
   ],
   "source": [
    "# AND deben evaluarse como verdaderas las dos condiciones\n",
    "age = 10\n",
    "if age >=10 and age <=13:\n",
    "    print('You are young')"
   ]
  },
  {
   "cell_type": "code",
   "execution_count": 38,
   "metadata": {},
   "outputs": [
    {
     "name": "stdout",
     "output_type": "stream",
     "text": [
      "myval does not have a value\n",
      "not none\n"
     ]
    },
    {
     "ename": "TypeError",
     "evalue": "'>' not supported between instances of 'NoneType' and 'NoneType'",
     "output_type": "error",
     "traceback": [
      "\u001b[0;31m---------------------------------------------------------------------------\u001b[0m",
      "\u001b[0;31mTypeError\u001b[0m                                 Traceback (most recent call last)",
      "\u001b[0;32m<ipython-input-38-0882d50b157c>\u001b[0m in \u001b[0;36m<module>\u001b[0;34m()\u001b[0m\n\u001b[1;32m     10\u001b[0m \u001b[0;31m# la comparacion de None solo puede hacerse con igual o diferente\u001b[0m\u001b[0;34m\u001b[0m\u001b[0;34m\u001b[0m\u001b[0m\n\u001b[1;32m     11\u001b[0m \u001b[0mmyval\u001b[0m \u001b[0;34m=\u001b[0m \u001b[0;32mNone\u001b[0m\u001b[0;34m\u001b[0m\u001b[0m\n\u001b[0;32m---> 12\u001b[0;31m \u001b[0;32mif\u001b[0m \u001b[0mmyval\u001b[0m \u001b[0;34m>\u001b[0m \u001b[0;32mNone\u001b[0m\u001b[0;34m:\u001b[0m\u001b[0;34m\u001b[0m\u001b[0m\n\u001b[0m\u001b[1;32m     13\u001b[0m     \u001b[0mprint\u001b[0m\u001b[0;34m(\u001b[0m\u001b[0;34m'not different none'\u001b[0m\u001b[0;34m)\u001b[0m\u001b[0;34m\u001b[0m\u001b[0m\n",
      "\u001b[0;31mTypeError\u001b[0m: '>' not supported between instances of 'NoneType' and 'NoneType'"
     ]
    }
   ],
   "source": [
    "# Tipo o valor espacial llamado Nulo o None\n",
    "myval = None\n",
    "if myval == None:\n",
    "    print('myval does not have a value')\n",
    "\n",
    "myval = 5\n",
    "if myval == 5:\n",
    "    print('not none')\n",
    "\n",
    "# la comparacion de None solo puede hacerse con igual o diferente\n",
    "myval = None\n",
    "if myval > None:\n",
    "    print('not different none')"
   ]
  },
  {
   "cell_type": "code",
   "execution_count": 75,
   "metadata": {},
   "outputs": [
    {
     "name": "stdout",
     "output_type": "stream",
     "text": [
      "Estudiante\n"
     ]
    }
   ],
   "source": [
    "# grupos de condicion, agrupados por parentesis\n",
    "nombre = 'Ricardo'\n",
    "edad = 14\n",
    "\n",
    "if (nombre == 'Ricardo' or nombre == 'David') and (edad >= 10 and edad <=14):\n",
    "    print('Estudiante')"
   ]
  },
  {
   "cell_type": "markdown",
   "metadata": {},
   "source": [
    "### Conversion de Datos (casting o cast)"
   ]
  },
  {
   "cell_type": "code",
   "execution_count": 41,
   "metadata": {},
   "outputs": [
    {
     "name": "stdout",
     "output_type": "stream",
     "text": [
      "ten (cast)\n"
     ]
    }
   ],
   "source": [
    "age = '10'\n",
    "if age == 10:\n",
    "    print('ten')\n",
    "    \n",
    "age = '10'\n",
    "if int(age) == 10:\n",
    "    print('ten (cast)')"
   ]
  },
  {
   "cell_type": "code",
   "execution_count": 43,
   "metadata": {},
   "outputs": [
    {
     "name": "stdout",
     "output_type": "stream",
     "text": [
      "ten\n"
     ]
    }
   ],
   "source": [
    "age = 10\n",
    "if str(age) == '10':\n",
    "    print('ten')"
   ]
  },
  {
   "cell_type": "code",
   "execution_count": 45,
   "metadata": {},
   "outputs": [
    {
     "name": "stdout",
     "output_type": "stream",
     "text": [
      "Boulevard1234\n"
     ]
    }
   ],
   "source": [
    "numero = 1234\n",
    "calle = 'Boulevard'\n",
    "direccion = calle + str(numero)\n",
    "print(direccion)"
   ]
  },
  {
   "cell_type": "markdown",
   "metadata": {},
   "source": [
    "### Booleans"
   ]
  },
  {
   "cell_type": "code",
   "execution_count": 54,
   "metadata": {},
   "outputs": [
    {
     "name": "stdout",
     "output_type": "stream",
     "text": [
      "Tel no ocupado\n",
      "Persona ocupada\n"
     ]
    }
   ],
   "source": [
    "# Tipo de dato que guarda un valor true o false\n",
    "\n",
    "# True\n",
    "# False\n",
    "\n",
    "telefonoOcupado = True\n",
    "telefonoOcupado = False\n",
    "\n",
    "if telefonoOcupado == True:\n",
    "    print('Tel ocupado')\n",
    "else:\n",
    "    print('Tel no ocupado')\n",
    "    \n",
    "celularOcupado = True\n",
    "if telefonoOcupado == True or celularOcupado == True:\n",
    "    print('Persona ocupada')\n",
    "else:\n",
    "    print('Persona no ocupada')"
   ]
  },
  {
   "cell_type": "code",
   "execution_count": 58,
   "metadata": {},
   "outputs": [
    {
     "name": "stdout",
     "output_type": "stream",
     "text": [
      "True\n"
     ]
    }
   ],
   "source": [
    "personaOcupada = str(True)\n",
    "print(personaOcupada)"
   ]
  },
  {
   "cell_type": "code",
   "execution_count": 70,
   "metadata": {},
   "outputs": [
    {
     "name": "stdout",
     "output_type": "stream",
     "text": [
      "Alguien esta jugando o chateando\n",
      "Hay personas\n"
     ]
    }
   ],
   "source": [
    "# Numeros son convertidos a boolenos por la computadora\n",
    "# todos los numeros a excepcion de uno (1) -> pasa a False\n",
    "# 1 -> pasa a True\n",
    "numeroPersonas = -1\n",
    "\n",
    "numeroPersonas = 1\n",
    "if numeroPersonas == True:\n",
    "    print('Alguien esta jugando o chateando')\n",
    "\n",
    "if numeroPersonas == True:\n",
    "    print('Hay personas')"
   ]
  },
  {
   "cell_type": "code",
   "execution_count": 72,
   "metadata": {},
   "outputs": [
    {
     "name": "stdout",
     "output_type": "stream",
     "text": [
      "Alguien esta jugando o chateando\n"
     ]
    }
   ],
   "source": [
    "# Notacion corta para comparar booleans, simplemente evaluan booleanos\n",
    "# numeroPersonas = 1\n",
    "numeroPersonas = True\n",
    "# cuando se tenga una condicion solo con booleanos no es necesaria tener una condicion explicita\n",
    "if numeroPersonas:\n",
    "    print('Alguien esta jugando o chateando')"
   ]
  },
  {
   "cell_type": "code",
   "execution_count": 74,
   "metadata": {},
   "outputs": [
    {
     "name": "stdout",
     "output_type": "stream",
     "text": [
      "Grupo\n"
     ]
    }
   ],
   "source": [
    "existenPersonas = True # bool\n",
    "numeroPersonas = 11 # num\n",
    "\n",
    "if existenPersonas and numeroPersonas > 10:\n",
    "    print('Grupo')"
   ]
  },
  {
   "cell_type": "markdown",
   "metadata": {},
   "source": [
    "## Ejercicios"
   ]
  },
  {
   "cell_type": "markdown",
   "metadata": {
    "collapsed": true
   },
   "source": [
    "Utilizando como base los objetos (mapas) creados en el ejercicio de la semana pasada, realizar las siguientes modificaciones:\n",
    "\n",
    "1. Anadir a los contactos una variable de tipo `bool` llamada `editable`. Esta variable sera utilizada para saber si el contacto se puede editar o no.\n",
    "\n",
    "2. Anadir una variable de tipo `bool` llamada `permisoParaContactar`. Esta variable sera utilizada para saber si se puede contactar a la persona con fines de publicidad.\n",
    "\n",
    "3. Anadir una variable de tipo `int` (numero) llamada `añoNacimiento`. Ejemplo: `añoNacimiento = 1992`.\n",
    "\n",
    "4. Añadir una variable de tipo `string` llamada `ciudad`. Ejemplo: `ciudad = 'Monterrey`\n",
    "\n",
    "5. Crear un solo mapa que contenga todos los contactos. Llamar a la variable de este mapa `directorio`.\n",
    "\n",
    "Utilizando el mapa `directorio`, crear las siguientes condiciones utilizando `IF`, `ELSE`, `ELSEIF`, `OR`, `AND`:\n",
    "\n",
    "1. Crear una estructura de control (condición) para verificar si la edad de un contacto es mayor a 18 anos (se debera calcular la edad restando el año actual al `añoNacimeinto`)\n",
    "\n",
    "2. Crear una estructura de control (condición) para verificar si la ciudad de un contacto es Saltillo.\n",
    "\n",
    "3. Crear una estructura de control (condición) para verificar si la fecha de nacimiento de un contacto es entre 1990 y 2000.\n",
    "\n",
    "4. Crear una estructura de control (condición) para verificar el contacto es editable.\n",
    "\n",
    "5. Crear una estructura de control (condición) para verificar se puede contactar a la persona con fines de publicidad.\n",
    "\n",
    "6. Crear una estructura de control (condición) para verificar si un contacto tiene correo de negocios. Para verificar esto se puede comparar si el correo de negocio es diferente a vacio (string vacio).\n",
    "\n",
    "7. Si el correo de negocio esta vacio, asignar a este un valor nulo (None)\n",
    "\n",
    "Realizar cada condicion en una celda diferente."
   ]
  },
  {
   "cell_type": "code",
   "execution_count": null,
   "metadata": {
    "collapsed": true
   },
   "outputs": [],
   "source": []
  }
 ],
 "metadata": {
  "hide_input": false,
  "kernelspec": {
   "display_name": "Python 3",
   "language": "python",
   "name": "python3"
  },
  "language_info": {
   "codemirror_mode": {
    "name": "ipython",
    "version": 3
   },
   "file_extension": ".py",
   "mimetype": "text/x-python",
   "name": "python",
   "nbconvert_exporter": "python",
   "pygments_lexer": "ipython3",
   "version": "3.6.3"
  }
 },
 "nbformat": 4,
 "nbformat_minor": 2
}
