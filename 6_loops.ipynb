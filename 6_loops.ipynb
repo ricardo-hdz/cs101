{
 "cells": [
  {
   "cell_type": "markdown",
   "metadata": {},
   "source": [
    "## Loops (Estructuras de ciclos)"
   ]
  },
  {
   "cell_type": "markdown",
   "metadata": {},
   "source": [
    "### For Numerico"
   ]
  },
  {
   "cell_type": "code",
   "execution_count": 9,
   "metadata": {},
   "outputs": [
    {
     "name": "stdout",
     "output_type": "stream",
     "text": [
      "hello\n",
      "hello\n",
      "hello\n",
      "hello\n"
     ]
    }
   ],
   "source": [
    "# el ciclo se compare de una variable y un rango(comienzo, final)\n",
    "\n",
    "for x in range(1,5):\n",
    "    print('hello')"
   ]
  },
  {
   "cell_type": "code",
   "execution_count": 16,
   "metadata": {},
   "outputs": [
    {
     "name": "stdout",
     "output_type": "stream",
     "text": [
      "0\n",
      "1\n",
      "2\n",
      "3\n",
      "4\n"
     ]
    }
   ],
   "source": [
    "# cada vez que el for se ejecuta la variable se incrementa en 1\n",
    "# la variable se crea en el primer ciclo, y se reutiliza en los ciclos restantes\n",
    "for lonche in range(0,5):\n",
    "    print(lonche)"
   ]
  },
  {
   "cell_type": "markdown",
   "metadata": {},
   "source": [
    "### For de Arreglo"
   ]
  },
  {
   "cell_type": "code",
   "execution_count": 19,
   "metadata": {},
   "outputs": [
    {
     "name": "stdout",
     "output_type": "stream",
     "text": [
      "legs\n",
      "toe\n",
      "eye\n",
      "bat\n",
      "wing\n"
     ]
    }
   ],
   "source": [
    "wizard_list = ['legs','toe','eye','bat','wing']\n",
    "# en vez de pasarle comienzo y fin, se le pasa el arreglo\n",
    "for parte in wizard_list:\n",
    "    print(parte)"
   ]
  },
  {
   "cell_type": "markdown",
   "metadata": {},
   "source": [
    "### For Anidado"
   ]
  },
  {
   "cell_type": "code",
   "execution_count": 29,
   "metadata": {},
   "outputs": [
    {
     "name": "stdout",
     "output_type": "stream",
     "text": [
      "legs - 0\n",
      "legs - 1\n",
      "toe - 0\n",
      "toe - 1\n",
      "eye - 0\n",
      "eye - 1\n",
      "bat - 0\n",
      "bat - 1\n",
      "wing - 0\n",
      "wing - 1\n"
     ]
    }
   ],
   "source": [
    "wizard_list = ['legs','toe','eye','bat','wing']\n",
    "\n",
    "# legs - 0\n",
    "# legs - 1\n",
    "for i in wizard_list:\n",
    "    for j in range(0,2):\n",
    "        print(i + ' - ' + str(j))\n",
    "#         for a in range(0, 3):\n",
    "#             print('')\n",
    "#     for b in range(0, 5):\n",
    "#         print('')"
   ]
  },
  {
   "cell_type": "markdown",
   "metadata": {},
   "source": [
    "### While"
   ]
  },
  {
   "cell_type": "code",
   "execution_count": 37,
   "metadata": {},
   "outputs": [
    {
     "name": "stdout",
     "output_type": "stream",
     "text": [
      "5\n",
      "6\n",
      "7\n",
      "8\n",
      "9\n",
      "15\n",
      "14\n",
      "13\n",
      "12\n",
      "11\n"
     ]
    }
   ],
   "source": [
    "# while loop\n",
    "# a for loop has specific length\n",
    "# estructura es while {condicion}\n",
    "\n",
    "# cuidado!!! CON CICLAR EL PROGRAMA\n",
    "step = 5\n",
    "while step < 10:\n",
    "    print(step)\n",
    "    step = step + 1\n",
    "\n",
    "step = 15\n",
    "while step > 10:\n",
    "    print(step)\n",
    "    step = step - 1"
   ]
  },
  {
   "cell_type": "code",
   "execution_count": 40,
   "metadata": {},
   "outputs": [
    {
     "name": "stdout",
     "output_type": "stream",
     "text": [
      "46 81\n",
      "47 82\n",
      "48 83\n",
      "49 84\n",
      "50 85\n",
      "51 86\n",
      "52 87\n",
      "53 88\n",
      "54 89\n",
      "55 90\n",
      "56 91\n",
      "57 92\n",
      "58 93\n",
      "59 94\n",
      "60 95\n",
      "61 96\n",
      "62 97\n",
      "63 98\n",
      "64 99\n",
      "65 100\n"
     ]
    }
   ],
   "source": [
    "x = 45\n",
    "y = 80\n",
    "while x < 50 or y < 100:\n",
    "    x = x + 1\n",
    "    y = y + 1\n",
    "    print(x, y)\n",
    "    \n",
    "# while x < 50 and y < 100:\n",
    "#     x = x + 1\n",
    "#     y = y + 1\n",
    "#     print(x, y)"
   ]
  },
  {
   "cell_type": "markdown",
   "metadata": {},
   "source": [
    "### For / Break"
   ]
  },
  {
   "cell_type": "code",
   "execution_count": 46,
   "metadata": {},
   "outputs": [
    {
     "name": "stdout",
     "output_type": "stream",
     "text": [
      "Mi nombre es Ricardo\n"
     ]
    }
   ],
   "source": [
    "# %s es un placeholder (planilla)\n",
    "# a la planilla se le debe pasar una variable\n",
    "\n",
    "# print('Mi nombre es %s' % 'Ricardo')\n",
    "nombre = 'Ricardo'\n",
    "print('Mi nombre es %s' % nombre)"
   ]
  },
  {
   "cell_type": "code",
   "execution_count": 47,
   "metadata": {},
   "outputs": [
    {
     "name": "stdout",
     "output_type": "stream",
     "text": [
      "Counting 1\n",
      "Counting 2\n",
      "Counting 3\n",
      "Counting 4\n",
      "Counting 5\n",
      "Counting 6\n",
      "Counting 7\n",
      "Counting 8\n",
      "Counting 9\n",
      "Counting 10\n",
      "end\n"
     ]
    }
   ],
   "source": [
    "#break = romper el ciclo\n",
    "\n",
    "# age = 10\n",
    "# for x in range(0,10):\n",
    "#     print(x)\n",
    "#     if x == 5:\n",
    "#         break\n",
    "\n",
    "age = 10\n",
    "for x in range(1,100):\n",
    "    print('Counting %s' % x)\n",
    "    if age == x:\n",
    "        print('end')\n",
    "        break"
   ]
  },
  {
   "cell_type": "markdown",
   "metadata": {},
   "source": [
    "### For / Continue"
   ]
  },
  {
   "cell_type": "code",
   "execution_count": 52,
   "metadata": {},
   "outputs": [
    {
     "data": {
      "text/plain": [
       "True"
      ]
     },
     "execution_count": 52,
     "metadata": {},
     "output_type": "execute_result"
    }
   ],
   "source": [
    "'ricardo'.startswith('r') # case (mayuscula o minuscula) es importante para la comparacion"
   ]
  },
  {
   "cell_type": "code",
   "execution_count": 53,
   "metadata": {},
   "outputs": [
    {
     "name": "stdout",
     "output_type": "stream",
     "text": [
      "apple\n",
      "orange\n"
     ]
    }
   ],
   "source": [
    "# for x in range(0,5):\n",
    "#     if x == 3:\n",
    "#         continue\n",
    "#     print(x)\n",
    "\n",
    "fruits = ['apple','banana','orange']\n",
    "for fruit in fruits:\n",
    "    if fruit.startswith('b'):\n",
    "        continue\n",
    "    print(fruit)"
   ]
  },
  {
   "cell_type": "markdown",
   "metadata": {},
   "source": [
    "### For Objects"
   ]
  },
  {
   "cell_type": "code",
   "execution_count": 55,
   "metadata": {},
   "outputs": [],
   "source": [
    "directorio = {\n",
    "    'persona1': {\n",
    "        'nombre':'Carlos',\n",
    "        'edad': 21\n",
    "    },\n",
    "    'persona2': {\n",
    "        'nombre':'Ricardo',\n",
    "        'edad': 14\n",
    "    }\n",
    "}"
   ]
  },
  {
   "cell_type": "code",
   "execution_count": 56,
   "metadata": {},
   "outputs": [
    {
     "name": "stdout",
     "output_type": "stream",
     "text": [
      "{'nombre': 'Carlos', 'edad': 21}\n",
      "{'nombre': 'Ricardo', 'edad': 14}\n"
     ]
    }
   ],
   "source": [
    "# una forma de imprimir el objeto es con los indices\n",
    "print(directorio['persona1'])\n",
    "print(directorio['persona2'])"
   ]
  },
  {
   "cell_type": "code",
   "execution_count": 57,
   "metadata": {},
   "outputs": [
    {
     "name": "stdout",
     "output_type": "stream",
     "text": [
      "persona1\n",
      "persona2\n"
     ]
    }
   ],
   "source": [
    "# imprimir por linea es ineficiente y imposible\n",
    "for persona in directorio:\n",
    "    print(persona)"
   ]
  },
  {
   "cell_type": "code",
   "execution_count": 64,
   "metadata": {},
   "outputs": [
    {
     "name": "stdout",
     "output_type": "stream",
     "text": [
      "persona1\n",
      "nombre\n",
      "edad\n",
      "persona2\n",
      "nombre\n",
      "edad\n"
     ]
    }
   ],
   "source": [
    "# para imprimir el objeto completo hay que acceder al objeto y su indice\n",
    "\n",
    "# 'persona' = ['p','e','r','s','o','n','a'] - la computadora interpreta strings como arreglo de caracteres\n",
    "for persona in directorio:\n",
    "    print(persona)\n",
    "    for campo in directorio[persona]: # acceder a un objeto dinamicamente\n",
    "        print(campo)"
   ]
  },
  {
   "cell_type": "markdown",
   "metadata": {},
   "source": [
    "### Imprimir un objeto utilizando la funcion `.items()`"
   ]
  },
  {
   "cell_type": "code",
   "execution_count": 66,
   "metadata": {},
   "outputs": [
    {
     "name": "stdout",
     "output_type": "stream",
     "text": [
      "{'nombre': 'Carlos', 'edad': 21}\n",
      "persona1\n",
      "{'nombre': 'Ricardo', 'edad': 14}\n",
      "persona2\n"
     ]
    }
   ],
   "source": [
    "# objeto.funcion() - llama a una funcion\n",
    "# .items() regresa los contenidos del objeto\n",
    "\n",
    "directorio = {\n",
    "    'persona1': {\n",
    "        'nombre':'Carlos',\n",
    "        'edad': 21\n",
    "    },\n",
    "    'persona2': {\n",
    "        'nombre':'Ricardo',\n",
    "        'edad': 14,\n",
    "        'telefonos': [1,2,3],\n",
    "        'direcciones': {\n",
    "            'direccion1':'calle 34',\n",
    "            'direccion2': 'calle 45'\n",
    "        }\n",
    "    }\n",
    "}\n",
    "\n",
    "for indice, persona in directorio.items():\n",
    "    print(persona)\n",
    "    print(indice)"
   ]
  },
  {
   "cell_type": "markdown",
   "metadata": {
    "collapsed": true
   },
   "source": [
    "### Ejercicios"
   ]
  },
  {
   "cell_type": "markdown",
   "metadata": {},
   "source": [
    "*Ejercicio I*\n",
    "\n",
    "Utilizando el objeto de contactos que realizaste la semana pasada, imprimir la lista de contacto utilizando `for` y `while` loops.\n",
    "\n",
    "1. Imprimir cada variables\n",
    "2. Si la variable es un arreglo, imprimir cada valor utilizando un for loop.\n",
    "3.  Si la variable es un objecto, imprimir los valores del objeto utilizando un for loop.\n",
    "\n",
    "\n",
    "*Ejercio II*\n",
    "4. Implementar un for loop que busque a todos los contactos con edad > 18. Si el contacto es > 18, imprimir su nombre\n",
    "5. Implementar un for loop que busque al primer contacto que viva en Saltillo. Una vez que el contacto se a encontrado salir del for loop con un `break`"
   ]
  }
 ],
 "metadata": {
  "hide_input": false,
  "kernelspec": {
   "display_name": "Python 3",
   "language": "python",
   "name": "python3"
  }
 },
 "nbformat": 4,
 "nbformat_minor": 2
}
